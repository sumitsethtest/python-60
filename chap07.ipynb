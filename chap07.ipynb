{
 "cells": [
  {
   "cell_type": "markdown",
   "metadata": {},
   "source": [
    "<!-- dom:TITLE: Programmation Python  pour les mathématiques -->\n",
    "# Programmation Python  pour les mathématiques\n",
    "<!-- dom:AUTHOR: Julien Guillod at [Sorbonne Université](http://www.sorbonne-universite.fr/), -->\n",
    "<!-- Author: -->  \n",
    "**Julien Guillod**, [Sorbonne Université](http://www.sorbonne-universite.fr/),\n",
    "Licence <a href=\"https://creativecommons.org/licenses/by-nc-nd/4.0/\">CC BY-NC-ND</a>\n",
    "\n",
    "\n",
    "L'entier des chapitres est disponible au format\n",
    "[HTML](https://python.guillod.org//) et [PDF](https://python.guillod.org//python.pdf).\n",
    "Ce notebook peut également être exécuté sur [GESIS](https://notebooks.gesis.org/binder/v2/gh/juguillod/python/master?filepath=chap07.ipynb).\n",
    "\n",
    "\n",
    "\n",
    "\n",
    "\n",
    "\n",
    "# 7 Zéro de fonctions\n",
    "<div id=\"ch:newton\"></div>\n",
    "\n",
    "Le but de cette série d'exercices est de déterminer les zéros de manière approchéé d'une fonction notamment par la méthode de Newton. Cela permet en particulier de trouver des solutions approchées d'équations non-linéaires. Cette méthode est fondamentale autant d'un point de vue numérique que analytique.\n",
    "\n",
    "**Concepts abordés.**\n",
    "\n",
    "* méthode de Newton en une et plusieurs dimensions\n",
    "\n",
    "* matrice jacobienne\n",
    "\n",
    "* attracteur de la méthode de Newton\n",
    "\n",
    "* ensemble fractal\n",
    "\n",
    "* optimisation par parallélisation\n",
    "\n",
    "* équation différentielle non-linéaire\n",
    "\n",
    "* différences finies\n",
    "\n",
    "\n",
    "\n",
    "\n",
    "\n",
    "<!-- --- begin exercise --- -->\n",
    "\n",
    "# Exercice 7.1: Méthode de Newton en une dimension\n",
    "\n",
    "En une dimension, la méthode de Newton consiste à trouver une solution approchée d'une seule équation. Cette équation peut être mise sous la forme générale $F(x)=0$ où $F:\\mathbb{R}\\to\\mathbb{R}$ est une fonction assez régulière, donc le but est de trouver un zéro de la fonction $F$. L'équation $F(x)=0$ est équivalente (si $F^\\prime(x) \\neq 0$) à l'équation $G(x)=x$ où $G$ est la fonction définie par:"
   ]
  },
  {
   "cell_type": "markdown",
   "metadata": {},
   "source": [
    "$$\n",
    "G(x) = x - \\frac{F(x)}{F^\\prime(x)} \\,.\n",
    "$$"
   ]
  },
  {
   "cell_type": "markdown",
   "metadata": {},
   "source": [
    "La méthode de Newton consiste à trouver un point fixe de $G$, *i.e.* résoudre $G(x)=x$ par itérations successives:"
   ]
  },
  {
   "cell_type": "markdown",
   "metadata": {},
   "source": [
    "$$\n",
    "x_{i+1} = G(x_i) = x_i - \\frac{F(x_i)}{F^\\prime(x_i)}\n",
    "$$"
   ]
  },
  {
   "cell_type": "markdown",
   "metadata": {},
   "source": [
    "à partir d'une valeur initiale $x_0\\in\\mathbb{R}$.\n",
    "Lorsque la suite $(x_i)_ {i\\in\\mathbb{N}}$ converge, alors la limite $x$ est une solution de $G(x)=x$ donc de $F(x)=0$.\n",
    "\n",
    "\n",
    "**a)**\n",
    "Écrire une fonction `newton1d(F, DF, x0, eps=1e-10, N=1000)` qui donné une fonction $F$, sa dérivée $F^\\prime$ et une valeur initiale $x_0$ calcule les itérations de Newton jusqu'à ce que  $|F(x_{i})| < \\varepsilon$ et retourne $x_{i}$. Si $N$ itérations n'ont pas suffi à atteindre ce critère de convergence, alors retourner une erreur.\n",
    "\n"
   ]
  },
  {
   "cell_type": "markdown",
   "metadata": {},
   "source": [
    "\n",
    "**b)**\n",
    "En utilisant la fonction définie précédemment, trouver une solution approchée de l'équation $e^{-x} = x$.\n",
    "\n",
    "\n",
    "<!-- --- begin answer of exercise --- -->\n",
    "**Réponse:**\n",
    "La solution est approximativement donnée par $x=0.56714$.\n",
    "\n",
    "<!-- --- end answer of exercise --- -->\n",
    "\n"
   ]
  },
  {
   "cell_type": "markdown",
   "metadata": {},
   "source": [
    "\n",
    "**c)**\n",
    "Sans utiliser la fonction `sqrt` ni les puissances fractionnaires, définir une fonction `racine(x,n)` qui calcule $\\sqrt[n]{x}$.\n",
    "\n"
   ]
  },
  {
   "cell_type": "markdown",
   "metadata": {},
   "source": [
    "\n",
    "Parfois, la dérivée de la fonction $F$ n'étant pas calculable analytiquement, il est alors nécessaire de l'approcher numériquement:"
   ]
  },
  {
   "cell_type": "markdown",
   "metadata": {},
   "source": [
    "$$\n",
    "F^\\prime(x_i) \\approx \\frac{F(x_i) - F(x_{i-1})}{x_i-x_{i-1}}\n",
    "$$"
   ]
  },
  {
   "cell_type": "markdown",
   "metadata": {},
   "source": [
    "ce qui mène à la méthode de la sécante:"
   ]
  },
  {
   "cell_type": "markdown",
   "metadata": {},
   "source": [
    "$$\n",
    "x_{i+1} =  x_i - F(x_i) \\frac{x_i-x_{i-1}}{F(x_i) - F(x_{i-1})} = \\frac{x_{i-1}F(x_{i})-x_{i}F(x_{i-1})}{F(x_{i})-F(x_{i-1})}\n",
    "$$"
   ]
  },
  {
   "cell_type": "markdown",
   "metadata": {},
   "source": [
    "où $x_0$ et $x_1$ doivent être choisi.\n",
    "\n",
    "**d)**\n",
    "Écrire une méthode `secant1d(F, x0, x1, eps=1e-10, N=1000)` implémentant la méthode de la sécante et la tester sur l'exemple précédent.\n",
    "\n"
   ]
  },
  {
   "cell_type": "markdown",
   "metadata": {},
   "source": [
    "\n",
    "<!-- --- end exercise --- -->\n",
    "\n",
    "\n",
    "\n",
    "\n",
    "<!-- --- begin exercise --- -->\n",
    "\n",
    "# Exercice 7.2: Méthode de Newton en plusieurs dimensions\n",
    "<div id=\"exer:newton-Rn\"></div>\n",
    "\n",
    "La méthode de Newton en une dimension est facilement généralisable à plusieurs dimensions pour résoudre des équations de la forme $F(\\boldsymbol{x})=\\boldsymbol{0}$ où $F:\\mathbb{R}^n \\to \\mathbb{R}^n$ est une fonction assez régulière. Conceptuellement la méthode est identique: l'équation $F(\\boldsymbol{x})=\\boldsymbol{0}$ est équivalente à $G(\\boldsymbol{x})=\\boldsymbol{x}$ où:"
   ]
  },
  {
   "cell_type": "markdown",
   "metadata": {},
   "source": [
    "$$\n",
    "G(\\boldsymbol{x}) = \\boldsymbol{x} - \\big(F^\\prime(\\boldsymbol{x})\\big)^{-1} F(\\boldsymbol{x})\n",
    "$$"
   ]
  },
  {
   "cell_type": "markdown",
   "metadata": {},
   "source": [
    "où $F^\\prime(\\boldsymbol{x})$ désigne la matrice jacobienne de taille $n \\times n$ de $F$ en $x$.\n",
    "Ainsi les itérations de Newton s'écrivent:"
   ]
  },
  {
   "cell_type": "markdown",
   "metadata": {},
   "source": [
    "$$\n",
    "\\boldsymbol{x}_{i+1} = \\boldsymbol{x}_{i} - \\big(F^\\prime(\\boldsymbol{x}_i)\\big)^{-1} F(\\boldsymbol{x}_i)\n",
    "$$"
   ]
  },
  {
   "cell_type": "markdown",
   "metadata": {},
   "source": [
    "**a)**\n",
    "Écrire une fonction `newton(F, DF, x0, eps=1e-12, N=10000)` implémentant la méthode de Newton en plus qu'une dimension.\n",
    "\n",
    "<!-- --- begin hint in exercise --- -->\n",
    "\n",
    "**Indication:**\n",
    "Faire attention que les listes et les tableaux sont mutables. Pour avoir une performance optimale, il ne faut pas inverser la matrice jacobienne mais résoudre un système linéaire avec $F(\\boldsymbol{x}_i)$ comme second membre.\n",
    "\n",
    "<!-- --- end hint in exercise --- -->\n",
    "\n"
   ]
  },
  {
   "cell_type": "markdown",
   "metadata": {},
   "source": [
    "\n",
    "**b)**\n",
    "Utiliser la fonction précédente pour résoudre le système suivant:"
   ]
  },
  {
   "cell_type": "markdown",
   "metadata": {},
   "source": [
    "$$\n",
    "\\begin{align*}\n",
    "\\cos(x) & =\\sin(y)\\,, & e^{-x} & =\\cos(y)\\,.\n",
    "\\end{align*}\n",
    "$$"
   ]
  },
  {
   "cell_type": "markdown",
   "metadata": {},
   "source": [
    "<!-- --- begin answer of exercise --- -->\n",
    "**Réponse:**\n",
    "Une solution est approximativement donnée par $x=0.58853$ et $y=0.98226$.\n",
    "\n",
    "<!-- --- end answer of exercise --- -->\n",
    "\n"
   ]
  },
  {
   "cell_type": "markdown",
   "metadata": {},
   "source": [
    "\n",
    "\n",
    "<!-- --- end exercise --- -->\n",
    "\n",
    "\n",
    "\n",
    "\n",
    "<!-- --- begin exercise --- -->\n",
    "\n",
    "# Exercice 7.3: Attracteur de la méthode de Newton\n",
    "\n",
    "Le but de cet exercice est de résoudre l'équation $z^3 = 1$ dans le plan complexe à l'aide de la méthode de Newton et d’analyser vers laquelle des trois racines de l'unité la méthode va converger suivant le choix du point initial $z_0$.\n",
    "\n",
    "\n",
    "**a)**\n",
    "Si nécessaire adapter la fonction `newton1d` pour que celle-ci marche également pour des nombres complexes et la tester pour résoudre $z^3 = 1$ à partir de différentes valeurs de $z_0$.\n",
    "\n"
   ]
  },
  {
   "cell_type": "markdown",
   "metadata": {},
   "source": [
    "\n",
    "**b)**\n",
    "Déterminer pour chaque $z_0 \\in \\big\\{x_0+iy_0: x_0\\in[-3,3] \\; \\text{et} \\; y_0\\in[-3,3]\\big\\}$ vers quelle racine de l'unité la méthode de Newton va converger. Représenter graphiquement cet ensemble.\n",
    "\n",
    "<!-- --- begin hint in exercise --- -->\n",
    "\n",
    "**Indication:**\n",
    "La fonction `meshgrid` de Numpy peut être utile pour construire la matrice correspondante à l'ensemble des $z_0$.\n",
    "\n",
    "<!-- --- end hint in exercise --- -->\n",
    "\n",
    "\n",
    "<!-- --- begin answer of exercise --- -->\n",
    "**Réponse:**\n",
    "Le graphique donnant la convergence de $z_0$ vers une des trois racines est le suivant:\n",
    "<!-- dom:FIGURE: [https://python.guillod.org/fig/newton-z3.png, width=600 frac=0.7] -->\n",
    "<!-- begin figure -->\n",
    "\n",
    "<p></p>\n",
    "<img src=\"https://python.guillod.org/fig/newton-z3.png\" width=600>\n",
    "\n",
    "<!-- end figure -->\n",
    "\n",
    "<!-- --- end answer of exercise --- -->\n",
    "\n"
   ]
  },
  {
   "cell_type": "markdown",
   "metadata": {},
   "source": [
    "\n",
    "**c)**\n",
    "<span style=\"color:red\">!</span> La méthode précédente a le désavantage de procéder séquentiellement au calcul pour chaque valeur de $z_0$, ce qui rend cette évaluation assez lente. Proposer une nouvelle implémentation permettant de calculer parallèlement toutes les valeurs de $z_0$ en utilisant les indexages Numpy.\n",
    "\n",
    "<!-- --- begin hint in exercise --- -->\n",
    "\n",
    "**Indication:**\n",
    "Pour encore plus de rapidité, les itérations de Newton de $F(z)=z^3-1$ peuvent être calculées à la main:"
   ]
  },
  {
   "cell_type": "markdown",
   "metadata": {},
   "source": [
    "$$\n",
    "z_{n+1} = \\frac{1}{3z_n^2} + \\frac{2z_n}{3} \\,.\n",
    "$$"
   ]
  },
  {
   "cell_type": "markdown",
   "metadata": {},
   "source": [
    "<!-- --- end hint in exercise --- -->\n",
    "\n"
   ]
  },
  {
   "cell_type": "markdown",
   "metadata": {},
   "source": [
    "\n",
    "\n",
    "<!-- --- end exercise --- -->\n",
    "\n",
    "\n",
    "\n",
    "\n",
    "<!-- --- begin exercise --- -->\n",
    "\n",
    "# Exercice 7.4: <span style=\"color:red\">!!</span> Équation différentielle non-linéaire\n",
    "<div id=\"exer:newton-nonlinear\"></div>\n",
    "\n",
    "Le but est de résoudre l'équation différentielle suivante avec conditions de valeurs limites:"
   ]
  },
  {
   "cell_type": "markdown",
   "metadata": {},
   "source": [
    "$$\n",
    "\\begin{align*}\n",
    "u^{\\prime\\prime}(x)+u^{3}(x) & = \\sin(x) \\,, & u(0) & = u(2\\pi) = 0 \\,,\n",
    "\\end{align*}\n",
    "$$"
   ]
  },
  {
   "cell_type": "markdown",
   "metadata": {},
   "source": [
    "sur l'intervalle $[0,2\\pi]$. Cette équation est un modèle simplifié pour une équation de Schrödinger non-linéaire.\n",
    "\n",
    "La méthode employée est les différences finies qui consistent à chercher les valeurs de $u$ aux points $x_n = \\frac{2\\pi n}{N}$ pour $n=0,1,\\dots,N$. Les inconnues sont alors les nombres $u_n = u(x_n)$ et forment un vecteur de dimension $N+1$. La méthode des différences finies consiste à approximer la dérivée seconde par"
   ]
  },
  {
   "cell_type": "markdown",
   "metadata": {},
   "source": [
    "$$\n",
    "u^{\\prime\\prime}(x) \\approx \\frac{u(x+h)-2u(x)+u(x-h)}{h^{2}} \\,,\n",
    "$$"
   ]
  },
  {
   "cell_type": "markdown",
   "metadata": {},
   "source": [
    "lorsque $h$ est petit.\n",
    "En prenant $h=\\frac{2\\pi}{N}$, alors:"
   ]
  },
  {
   "cell_type": "markdown",
   "metadata": {},
   "source": [
    "$$\n",
    "u^{\\prime\\prime}(x_n) \\approx \\frac{u_{n+1}-2u_n+u_{n-1}}{h^{2}} \\,,\n",
    "$$"
   ]
  },
  {
   "cell_type": "markdown",
   "metadata": {},
   "source": [
    "et donc l'équation initiale s'approxime par:"
   ]
  },
  {
   "cell_type": "markdown",
   "metadata": {},
   "source": [
    "$$\n",
    "\\begin{align*}\n",
    "\\frac{u_{n+1}-2u_{n}+u_{n-1}}{h^{2}}+u_{n}^{3} & = \\sin(x_{n}) \\,, & u_{0} & = u_{N} = 0 \\,,\n",
    "\\end{align*}\n",
    "$$"
   ]
  },
  {
   "cell_type": "markdown",
   "metadata": {},
   "source": [
    "pour $n=1,2,\\dots,N-1$.\n",
    "Cette équation peut être vue comme une équation du type $F(\\boldsymbol{u})=\\boldsymbol{0}$ pour $\\boldsymbol{u} = (u_n)_ {n=0}^{N}$ et donc être résolue par la méthode de Newton.\n",
    "\n",
    "\n",
    "**a)**\n",
    "Montrer l'approximation suivante:"
   ]
  },
  {
   "cell_type": "markdown",
   "metadata": {},
   "source": [
    "$$\n",
    "u^{\\prime\\prime}(x) = \\frac{u(x+h)-2u(x)+u(x-h)}{h^{2}} + O(h^2) \\quad \\text{lorsque} \\quad h \\to 0 \\,.\n",
    "$$"
   ]
  },
  {
   "cell_type": "markdown",
   "metadata": {},
   "source": [
    "<!-- --- begin hint in exercise --- -->\n",
    "\n",
    "**Indication:**\n",
    "Utiliser le théorème de Taylor.\n",
    "\n",
    "<!-- --- end hint in exercise --- -->\n",
    "\n"
   ]
  },
  {
   "cell_type": "markdown",
   "metadata": {},
   "source": [
    "\n",
    "\n",
    "**b)**\n",
    "Définir un vecteur `x` représentant les $N+1$ points équidistribués dans $[0,1]$ et `h` la distance entre les points, avec par exemple $N=200$.\n",
    "\n"
   ]
  },
  {
   "cell_type": "markdown",
   "metadata": {},
   "source": [
    "\n",
    "**c)**\n",
    "Définir une fonction `F(u)` représentant la fonction $F:\\mathbb{R}^{N+1} \\to \\mathbb{R}^{N+1}$ permettant de mettre l'équation approchée sous la forme $F(\\boldsymbol{u})=\\boldsymbol{0}$.\n",
    "\n",
    "<!-- --- begin hint in exercise --- -->\n",
    "\n",
    "**Indication:**\n",
    "Pour avoir une implémentation rapide, il est impératif de ne pas utiliser une boucle pour construire $F$ mais d'utiliser le slicing Numpy.\n",
    "\n",
    "<!-- --- end hint in exercise --- -->\n",
    "\n"
   ]
  },
  {
   "cell_type": "markdown",
   "metadata": {},
   "source": [
    "\n",
    "**d)**\n",
    "Définir une fonction `DF(u)` représentant la jacobienne de la fonction précédente.\n",
    "\n",
    "<!-- --- begin hint in exercise --- -->\n",
    "\n",
    "**Indication:**\n",
    "La jacobienne est la dérivée de $F(\\boldsymbol{u})=F(u_0,u_1,\\dots,u_{N})$ par rapport à $\\boldsymbol{u} = (u_0,u_1,\\dots,u_{N})$, c'est à dire:"
   ]
  },
  {
   "cell_type": "markdown",
   "metadata": {},
   "source": [
    "$$\n",
    "F^{\\prime}(\\boldsymbol{u})=\\begin{pmatrix}\\partial_{0}F(\\boldsymbol{u}) & \\partial_{1}F(\\boldsymbol{u}) & \\partial_{2}F(\\boldsymbol{u}) & \\cdots & \\partial_{N-1}F(\\boldsymbol{u}) & \\partial_{N}F(\\boldsymbol{u})\\end{pmatrix}\\,,\n",
    "$$"
   ]
  },
  {
   "cell_type": "markdown",
   "metadata": {},
   "source": [
    "et peut se calculer explicitement à la main.\n",
    "\n",
    "<!-- --- end hint in exercise --- -->\n",
    "\n"
   ]
  },
  {
   "cell_type": "markdown",
   "metadata": {},
   "source": [
    "\n",
    "\n",
    "**e)**\n",
    "Utiliser la fonction `newton` définie précédemment pour calculer une solution approchée de l'équation. En changeant de valeurs initiales, est-il possible de trouver d'autres solutions ?\n",
    "\n",
    "<!-- --- begin hint in exercise --- -->\n",
    "\n",
    "**Indication:**\n",
    "Essayer avec la donnée initiale $u_0(x) = (1+k)\\sin(kx)$ pour $k=1,2,3,4$ comme point de départ de la méthode de Newton.\n",
    "\n",
    "<!-- --- end hint in exercise --- -->\n",
    "\n"
   ]
  },
  {
   "cell_type": "markdown",
   "metadata": {},
   "source": [
    "\n",
    "<!-- --- end exercise --- -->"
   ]
  }
 ],
 "metadata": {
  "kernelspec": {
   "display_name": "Python 3",
   "language": "python",
   "name": "python3"
  },
  "language_info": {
   "codemirror_mode": {
    "name": "ipython",
    "version": 3
   },
   "file_extension": ".py",
   "mimetype": "text/x-python",
   "name": "python",
   "nbconvert_exporter": "python",
   "pygments_lexer": "ipython3",
   "version": "3.6.9"
  }
 },
 "nbformat": 4,
 "nbformat_minor": 2
}