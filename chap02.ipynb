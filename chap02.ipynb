{
 "cells": [
  {
   "cell_type": "markdown",
   "metadata": {},
   "source": [
    "<!-- dom:TITLE: Programmation Python  pour les mathématiques -->\n",
    "# Programmation Python  pour les mathématiques\n",
    "<!-- dom:AUTHOR: Julien Guillod at [Sorbonne Université](http://www.sorbonne-universite.fr/), -->\n",
    "<!-- Author: -->  \n",
    "**Julien Guillod**, [Sorbonne Université](http://www.sorbonne-universite.fr/),\n",
    "Licence <a href=\"https://creativecommons.org/licenses/by-nc-nd/4.0/\">CC BY-NC-ND</a>\n",
    "\n",
    "\n",
    "L'entier des chapitres est disponible au format\n",
    "[HTML](https://python.guillod.org//) et [PDF](https://python.guillod.org//python.pdf).\n",
    "Ce notebook peut également être exécuté sur [GESIS](https://notebooks.gesis.org/binder/v2/gh/juguillod/python/master?filepath=chap02.ipynb).\n",
    "\n",
    "\n",
    "\n",
    "\n",
    "\n",
    "\n",
    "# 2 Structures de données\n",
    "<div id=\"ch:structures\"></div>\n",
    "\n",
    "Pour représenter des structures de données, Python propose quatre types de bases: les listes (type `list`), les tuples (type `tuple`), les ensembles (type `set`), et les dictionnaires (type `dict`). Le but est de voir les différences fondamentales entre ces différentes structures de données et de voir à quoi elles sont le plus adaptées. La documentation détaillée sur les structures de données est disponible [ici](https://docs.python.org/fr/3.6/tutorial/datastructures.html).\n",
    "\n",
    "**Concepts abordés.**\n",
    "\n",
    "* structures de données (liste, tuple, ensemble, dictionnaire)\n",
    "\n",
    "* type mutable et nonmutable\n",
    "\n",
    "* type hashable\n",
    "\n",
    "* compréhensions de liste, ensemble et dictionnaire\n",
    "\n",
    "* suites numériques\n",
    "\n",
    "\n",
    "\n",
    "\n",
    "\n",
    "<!-- --- begin exercise --- -->\n",
    "\n",
    "# Exercice 2.1: Listes\n",
    "<div id=\"exer:structures-listes\"></div>\n",
    "\n",
    "Une liste est une structure permettant de stocker des éléments hétérogènes:"
   ]
  },
  {
   "cell_type": "code",
   "execution_count": 1,
   "metadata": {
    "collapsed": false
   },
   "outputs": [],
   "source": [
    "list0 = [0, 5.4, \"chaine\", True]"
   ]
  },
  {
   "cell_type": "markdown",
   "metadata": {},
   "source": [
    "Les listes sont mutables c'est-à-dire qu'il est possible de modifier un élément, d'en rajouter un ou d'en supprimer un sans redéfinir toute la liste."
   ]
  },
  {
   "cell_type": "code",
   "execution_count": 2,
   "metadata": {
    "collapsed": false
   },
   "outputs": [],
   "source": [
    "list0[3] = False # remplace True par False\n",
    "list0.append(\"nouveau\") # ajoute la chaîne de caractère \"nouveau\" à la liste\n",
    "list0.insert(2, 34) # insère 34 à la place 2\n",
    "list0.remove(0) # enlève 0"
   ]
  },
  {
   "cell_type": "markdown",
   "metadata": {},
   "source": [
    "En particulier, il faut faire attention en copiant une liste. En exécutant le code suivant:"
   ]
  },
  {
   "cell_type": "code",
   "execution_count": 3,
   "metadata": {
    "collapsed": false
   },
   "outputs": [],
   "source": [
    "list1 = list0\n",
    "list1[2] = \"change\"\n",
    "list0"
   ]
  },
  {
   "cell_type": "markdown",
   "metadata": {},
   "source": [
    "alors `list0` est aussi modifié et est égal à `list1`. Pour créer une vraie copie, il faut utiliser le code suivant:"
   ]
  },
  {
   "cell_type": "code",
   "execution_count": 4,
   "metadata": {
    "collapsed": false
   },
   "outputs": [],
   "source": [
    "list2 = list0.copy()\n",
    "list2[2] = \"rechange\"\n",
    "list0"
   ]
  },
  {
   "cell_type": "markdown",
   "metadata": {},
   "source": [
    "qui ne modifie pas `list0`.\n",
    "A noter qu'il est possible de modifier les éléments d'une liste à l'intérieur d'une fonction:"
   ]
  },
  {
   "cell_type": "code",
   "execution_count": 5,
   "metadata": {
    "collapsed": false
   },
   "outputs": [],
   "source": [
    "def f(l):\n",
    "    l[0] = 0\n",
    "f(list0)"
   ]
  },
  {
   "cell_type": "markdown",
   "metadata": {},
   "source": [
    "Finalement il est possible de créer des listes à l'aide de la compréhension de listes:"
   ]
  },
  {
   "cell_type": "code",
   "execution_count": 6,
   "metadata": {
    "collapsed": false
   },
   "outputs": [],
   "source": [
    "list1 = [2*i+1 for i in range(10)]"
   ]
  },
  {
   "cell_type": "markdown",
   "metadata": {},
   "source": [
    "**a)**\n",
    "Chercher dans la documentation la syntaxe pour concaténer deux listes.\n",
    "\n",
    "<!-- --- begin hint in exercise --- -->\n",
    "\n",
    "**Indication:**\n",
    "Voir la documentation [ici](https://docs.python.org/fr/3.6/library/stdtypes.html#sequence-types-list-tuple-range).\n",
    "\n",
    "<!-- --- end hint in exercise --- -->\n",
    "\n"
   ]
  },
  {
   "cell_type": "markdown",
   "metadata": {},
   "source": [
    "\n",
    "**b)**\n",
    "Chercher dans la documentation la syntaxe pour extraire une tranche d'une liste, c'est-à-dire par exemple si `a` est une liste de longueur 10, retourner les éléments de 6 à 9.\n",
    "\n",
    "<!-- --- begin hint in exercise --- -->\n",
    "\n",
    "**Indication:**\n",
    "Voir la documentation [ici](https://docs.python.org/fr/3.6/library/stdtypes.html#sequence-types-list-tuple-range).\n",
    "\n",
    "<!-- --- end hint in exercise --- -->\n",
    "\n"
   ]
  },
  {
   "cell_type": "markdown",
   "metadata": {},
   "source": [
    "\n",
    "**c)**\n",
    "Chercher dans la documentation la syntaxe pour retourner la longueur d'une liste.\n",
    "\n"
   ]
  },
  {
   "cell_type": "markdown",
   "metadata": {},
   "source": [
    "\n",
    "**d)**\n",
    "Écrire une fonction `fibonacci(N)` qui retourne la liste des $N\\geq2$ premiers termes de la suite de Fibonacci définie par $u_{n+2} = u_{n+1}+u_n$ avec $u_0=0$ et $u_1=1$.\n",
    "\n"
   ]
  },
  {
   "cell_type": "markdown",
   "metadata": {},
   "source": [
    "\n",
    "**e)**\n",
    "Écrire une fonction `pascal(N)` qui retourne la $N$-ième ligne du triangle de Pascal:\n",
    "<!-- dom:FIGURE: [https://python.guillod.org/fig/pascal.png, width=150 frac=0.2] -->\n",
    "<!-- begin figure -->\n",
    "\n",
    "<p></p>\n",
    "<img src=\"https://python.guillod.org/fig/pascal.png\" width=150>\n",
    "\n",
    "<!-- end figure -->\n",
    "\n"
   ]
  },
  {
   "cell_type": "markdown",
   "metadata": {},
   "source": [
    "\n",
    "**f)**\n",
    "Soit les suites $(u_n)_{n\\in\\mathbb{N}}$ et $(v_n)_{n\\in\\mathbb{N}}$ définies par $u_0=1$, $v_0=1$, et"
   ]
  },
  {
   "cell_type": "markdown",
   "metadata": {},
   "source": [
    "$$\n",
    "\\begin{align*}\n",
    "u_{n+1} &= u_n + v_n \\,, & v_{n+1} &= 2u _n - v_n \\,,\n",
    "\\end{align*}\n",
    "$$"
   ]
  },
  {
   "cell_type": "markdown",
   "metadata": {},
   "source": [
    "pour $n\\geq0$. Calculer $u_{100}$ et $v_{100}$.\n",
    "\n",
    "\n",
    "<!-- --- begin answer of exercise --- -->\n",
    "**Réponse:**\n",
    "$u_{100}=v_{100}=717897987691852588770249$\n",
    "\n",
    "<!-- --- end answer of exercise --- -->\n",
    "\n"
   ]
  },
  {
   "cell_type": "markdown",
   "metadata": {},
   "source": [
    "\n",
    "**g)**\n",
    "Écrire une fonction `vk(n0,K)`, qui pour deux entiers $n_0$ et $K\\geq1$, calcule la suite des valeurs $v_k$ définies par $v_0 = n_0$ et"
   ]
  },
  {
   "cell_type": "markdown",
   "metadata": {},
   "source": [
    "$$\n",
    "v_{k+1}=\\begin{cases}\n",
    "3v_{k}+1 & \\text{si $v_{k}$ est impair},\\\\ \n",
    "\\frac{v_{k}}{2} & \\text{si $v_{k}$ est pair},\n",
    "\\end{cases}\n",
    "$$"
   ]
  },
  {
   "cell_type": "markdown",
   "metadata": {},
   "source": [
    "pour $0 \\leq k < K$. Pour $K = 1000$ et diverses valeurs de $n_0 \\in \\{10, 100, 1000, 10000\\}$, afficher les cinq dernières\n",
    "valeurs calculées, c'est-à-dire $(v_{K-4},v_{K-3},v_{K-2},v_{K-1},v_K)$.\n",
    "\n",
    "\n",
    "<!-- --- begin answer of exercise --- -->\n",
    "**Réponse:**\n",
    "Les assertions suivantes sont vraies:\n",
    "\n",
    "`vk(10,1000) == [1, 4, 2, 1, 4]`\n",
    "\n",
    "`vk(100,1000) == [2, 1, 4, 2, 1]`\n",
    "\n",
    "`vk(1000,1000) == [1, 4, 2, 1, 4]`\n",
    "\n",
    "`vk(10000,1000) == [4, 2, 1, 4, 2]`\n",
    "\n",
    "<!-- --- end answer of exercise --- -->\n",
    "\n"
   ]
  },
  {
   "cell_type": "markdown",
   "metadata": {},
   "source": [
    "\n",
    "<!-- --- end exercise --- -->\n",
    "\n",
    "\n",
    "\n",
    "\n",
    "<!-- --- begin exercise --- -->\n",
    "\n",
    "# Exercice 2.2: Tuples\n",
    "<div id=\"exer:structures-tuples\"></div>\n",
    "\n",
    "Les tuples permettant tout comme les listes de stocker des éléments hétérogènes:"
   ]
  },
  {
   "cell_type": "code",
   "execution_count": 14,
   "metadata": {
    "collapsed": false
   },
   "outputs": [],
   "source": [
    "tuple0 = (0, 5.4, \"chaine\", True)"
   ]
  },
  {
   "cell_type": "markdown",
   "metadata": {},
   "source": [
    "Au contraire des listes, les tuples ne sont pas mutables. Il n'est pas possible de modifier un élément, d'en rajouter un ou d'en supprimer un sans redéfinir tout le tuple. L'avantage d'un tuple sur une liste est que un tuple est hashable, c'est-à-dire qu'il peut être utilisé comme clé dans un dictionnaire.\n",
    "\n",
    "Finalement, il est possible d'affecter des variables à l'intérieur d'un tuple, par exemple:"
   ]
  },
  {
   "cell_type": "code",
   "execution_count": 15,
   "metadata": {
    "collapsed": false
   },
   "outputs": [],
   "source": [
    "(a,b) = (1,9)"
   ]
  },
  {
   "cell_type": "markdown",
   "metadata": {},
   "source": [
    "Cela est en particulier très utile pour échange deux variables sans avoir à utiliser une variable supplémentaire:"
   ]
  },
  {
   "cell_type": "code",
   "execution_count": 16,
   "metadata": {
    "collapsed": false
   },
   "outputs": [],
   "source": [
    "(a,b) = (b,a)"
   ]
  },
  {
   "cell_type": "markdown",
   "metadata": {},
   "source": [
    "**a)**\n",
    "Vérifier qu'un tuple est bien immutable.\n",
    "\n"
   ]
  },
  {
   "cell_type": "markdown",
   "metadata": {},
   "source": [
    "\n",
    "**b)**\n",
    "Définir une fonction `mdlast(lst,val)` ayant pour argument une liste de tuples d'entiers `lst` et un entier `val` et retourner la liste de tuple avec le dernier élément de chaque tuple remplacé par `val`. Par exemple si `lst = [(10, 20), (30, 40, 50, 60), (70, 80, 90)]` alors `mdlast(lst,100)` doit retourner `[(10, 100), (30, 40, 50, 100), (70, 80, 100)]`.\n",
    "\n"
   ]
  },
  {
   "cell_type": "markdown",
   "metadata": {},
   "source": [
    "\n",
    "**c)**\n",
    "Comment convertir un tuple en liste et réciproquement ?\n",
    "\n"
   ]
  },
  {
   "cell_type": "markdown",
   "metadata": {},
   "source": [
    "\n",
    "<!-- --- end exercise --- -->\n",
    "\n",
    "\n",
    "\n",
    "\n",
    "<!-- --- begin exercise --- -->\n",
    "\n",
    "# Exercice 2.3: Ensembles\n",
    "<div id=\"exer:structures-ensembles\"></div>\n",
    "\n",
    "Les ensembles est une structure permettant de stocker des éléments hétérogènes au sens mathématique de la théorie des ensembles:"
   ]
  },
  {
   "cell_type": "code",
   "execution_count": 20,
   "metadata": {
    "collapsed": false
   },
   "outputs": [],
   "source": [
    "set0 = {0, 5.4, \"chaine\", True}"
   ]
  },
  {
   "cell_type": "markdown",
   "metadata": {},
   "source": [
    "Il est possible de tester si un élément appartient à un ensemble:"
   ]
  },
  {
   "cell_type": "code",
   "execution_count": 21,
   "metadata": {
    "collapsed": false
   },
   "outputs": [],
   "source": [
    "if \"chaine\" in set0:\n",
    "    print(\"dedans\")"
   ]
  },
  {
   "cell_type": "markdown",
   "metadata": {},
   "source": [
    "Les ensembles sont mutables, il est donc possible de rajouter ou retirer un élément d'un ensemble:"
   ]
  },
  {
   "cell_type": "code",
   "execution_count": 22,
   "metadata": {
    "collapsed": false
   },
   "outputs": [],
   "source": [
    "set0.add(18) # ajoute 18 à l'ensemble\n",
    "set0.add(0) # ajoute 0 à l'ensemble (ne fait rien car 0 est déjà dedans)\n",
    "set0.remove(\"chaine\") # retire \"chaine de l'ensemble"
   ]
  },
  {
   "cell_type": "markdown",
   "metadata": {},
   "source": [
    "Par contre les ensembles peuvent contenir que des éléments hashables, c'est-à-dire immutables. En particulier un ensemble ne peut pas contenir un autre ensemble:"
   ]
  },
  {
   "cell_type": "code",
   "execution_count": 23,
   "metadata": {
    "collapsed": false
   },
   "outputs": [],
   "source": [
    "set1 = {{1,2},{3},{4}}\n",
    "TypeError: unhashable type: 'set'"
   ]
  },
  {
   "cell_type": "markdown",
   "metadata": {},
   "source": [
    "A noter qu'il existe également en Python des ensembles immutables `frozenset`:"
   ]
  },
  {
   "cell_type": "code",
   "execution_count": 24,
   "metadata": {
    "collapsed": false
   },
   "outputs": [],
   "source": [
    "frozenset0 = frozenset([0, 5.4, \"chaine\", True])"
   ]
  },
  {
   "cell_type": "markdown",
   "metadata": {},
   "source": [
    "Une chaine de caractère peut être transformée en ensemble:"
   ]
  },
  {
   "cell_type": "code",
   "execution_count": 25,
   "metadata": {
    "collapsed": false
   },
   "outputs": [],
   "source": [
    "set1 = set('abracadabra')"
   ]
  },
  {
   "cell_type": "markdown",
   "metadata": {},
   "source": [
    "Comme pour les listes, il est possible de faire des compréhensions de listes:"
   ]
  },
  {
   "cell_type": "code",
   "execution_count": 26,
   "metadata": {
    "collapsed": false
   },
   "outputs": [],
   "source": [
    "set2 = {x for x in 'abracadabra' if x not in 'abc'}"
   ]
  },
  {
   "cell_type": "markdown",
   "metadata": {},
   "source": [
    "Dans cet exemple les chaînes de caractères sont automatiquement transformées en ensemble.\n",
    "A noter que l'ensemble vide est défini par `set()`.\n",
    "\n",
    "\n",
    "**a)**\n",
    "Définir une fonction `divisible(n)` qui retourne l'ensemble des nombres divisibles par `n` inférieurs ou égal à 100.\n",
    "\n"
   ]
  },
  {
   "cell_type": "markdown",
   "metadata": {},
   "source": [
    "\n",
    "**b)**\n",
    "Chercher dans la documentation comment faire l'intersection, l'union, et la différence de deux ensembles. Déterminer les nombres inférieurs ou égal à 100 qui sont pas divisibles par 2 mais divisibles par 3 et 5.\n",
    "\n",
    "<!-- --- begin hint in exercise --- -->\n",
    "\n",
    "**Indication:**\n",
    "Voir la documentation de `set` [ici](https://docs.python.org/fr/3.6/library/stdtypes.html#set).\n",
    "\n",
    "<!-- --- end hint in exercise --- -->\n",
    "\n"
   ]
  },
  {
   "cell_type": "markdown",
   "metadata": {},
   "source": [
    "\n",
    "\n",
    "<!-- --- end exercise --- -->\n",
    "\n",
    "\n",
    "\n",
    "\n",
    "<!-- --- begin exercise --- -->\n",
    "\n",
    "# Exercice 2.4: Dictionnaires\n",
    "<div id=\"exer:structures-dictionnaires\"></div>\n",
    "\n",
    "Les dictionnaires sont une structure permettant de stocker des éléments hétérogènes indexés par des clefs (elles aussi hétérogènes):"
   ]
  },
  {
   "cell_type": "code",
   "execution_count": 30,
   "metadata": {
    "collapsed": false
   },
   "outputs": [],
   "source": [
    "dict0 = {\"pommes\": 0, \"poires\": 4, 12: 2}"
   ]
  },
  {
   "cell_type": "markdown",
   "metadata": {},
   "source": [
    "Les éléments d'un dictionnaire sont accessibles par les clefs:"
   ]
  },
  {
   "cell_type": "code",
   "execution_count": 31,
   "metadata": {
    "collapsed": false
   },
   "outputs": [],
   "source": [
    "dict0[\"pommes\"]\n",
    "dict0[12]"
   ]
  },
  {
   "cell_type": "markdown",
   "metadata": {},
   "source": [
    "Un dictionnaire peut être vu comme un tableau associatif associant à chaque clef une valeur. La liste des clefs et des valeurs sont accessibles respectivement avec `dict0.keys()` et `dict0.values()`.\n",
    "Les dictionnaires sont mutables, il est donc possible de modifier une association clef-valeur et d'en rajouter ou supprimer une:"
   ]
  },
  {
   "cell_type": "code",
   "execution_count": 32,
   "metadata": {
    "collapsed": false
   },
   "outputs": [],
   "source": [
    "dict0[\"pommes\"] = 3 # modifie la valeur associée à pommes\n",
    "dict0[\"oranges\"] = \"beaucoup\" # rajoute orange comme clef avec la valeur \"beaucoup\"\n",
    "del dict0[\"poires\"] # supprime le couple clef-valeur associé à poires\n",
    "dict0.pop(\"pommes\") # supprime le couple clef-valeur associé à pommes"
   ]
  },
  {
   "cell_type": "markdown",
   "metadata": {},
   "source": [
    "Bien que les dictionnaires soient mutables, les clefs qui le composent doivent être des objets hashables, c'est-à-dire immutables. Ainsi une liste ou un ensemble ne peut pas servir de clef dans un dictionnaire:"
   ]
  },
  {
   "cell_type": "code",
   "execution_count": 33,
   "metadata": {
    "collapsed": false
   },
   "outputs": [],
   "source": [
    "dict0[list0] = \"test\"\n",
    "TypeError: unhashable type: 'list'\n",
    "dict0[set0] = \"retest\"\n",
    "TypeError: unhashable type: 'set'"
   ]
  },
  {
   "cell_type": "markdown",
   "metadata": {},
   "source": [
    "Par contre il est possible d'avoir un tuple ou un frozenset comme clef:"
   ]
  },
  {
   "cell_type": "code",
   "execution_count": 34,
   "metadata": {
    "collapsed": false
   },
   "outputs": [],
   "source": [
    "dict0[tuple0] = \"test\"\n",
    "dict0[frozenset0] = \"rest\""
   ]
  },
  {
   "cell_type": "markdown",
   "metadata": {},
   "source": [
    "d'où l'intérêt des frozensets.\n",
    "Comme pour les listes et les ensembles, il est possible de faire des compréhensions de dictionnaires:"
   ]
  },
  {
   "cell_type": "code",
   "execution_count": 35,
   "metadata": {
    "collapsed": false
   },
   "outputs": [],
   "source": [
    "dict1 = {x: x**2 for x in range(5)}"
   ]
  },
  {
   "cell_type": "markdown",
   "metadata": {},
   "source": [
    "Une dernière chose intéressante avec les dictionnaires est l'unpaking illustré par l'exemple suivant:"
   ]
  },
  {
   "cell_type": "code",
   "execution_count": 36,
   "metadata": {
    "collapsed": false
   },
   "outputs": [],
   "source": [
    "def add(a=0, b=0):\n",
    "    return a + b\n",
    "d = {'a': 2, 'b': 3}\n",
    "add(**d)"
   ]
  },
  {
   "cell_type": "markdown",
   "metadata": {},
   "source": [
    "**a)**\n",
    "Comment définir un dictionnaire vide ?\n",
    "\n",
    "\n",
    "\n",
    "**b)**\n",
    "Comment concaténer plusieurs dictionnaire entre eux ?\n",
    "\n"
   ]
  },
  {
   "cell_type": "markdown",
   "metadata": {},
   "source": [
    "\n",
    "**c)**\n",
    "On considère une liste de mots:"
   ]
  },
  {
   "cell_type": "code",
   "execution_count": 38,
   "metadata": {
    "collapsed": false
   },
   "outputs": [],
   "source": [
    "mots = ['Abricot', 'Airelle', 'Ananas', 'Banane', 'Cassis', 'Cerise', 'Citron',\\\n",
    "'Clémentine', 'Coing', 'Datte', 'Fraise', 'Framboise', 'Grenade', 'Groseille',\\\n",
    "'Kaki', 'Kiwi', 'Litchi', 'Mandarine', 'Mangue', 'Melon', 'Mirabelle', 'Nectarine',\\\n",
    "'Orange', 'Pamplemousse', 'Papaye', 'Pêche', 'Poire', 'Pomme', 'Prune', 'Raisin']"
   ]
  },
  {
   "cell_type": "markdown",
   "metadata": {},
   "source": [
    "Écrire une fonction `mots_position(mots, x, n)` qui retourne la liste des mots ayant le caractère `x` comme `n`-ième lettre.\n",
    "\n",
    "\n",
    "<!-- --- begin answer of exercise --- -->\n",
    "**Réponse:**\n",
    "Par exemple `mots_position(mots,'e',4)` doit retourner la liste:"
   ]
  },
  {
   "cell_type": "code",
   "execution_count": 39,
   "metadata": {
    "collapsed": false
   },
   "outputs": [],
   "source": [
    "['Clémentine', 'Datte', 'Groseille', 'Pêche', 'Poire', 'Pomme', 'Prune']"
   ]
  },
  {
   "cell_type": "markdown",
   "metadata": {},
   "source": [
    "<!-- --- end answer of exercise --- -->\n",
    "\n"
   ]
  },
  {
   "cell_type": "markdown",
   "metadata": {},
   "source": [
    "\n",
    "**d)**\n",
    "En imaginant que la liste des mots soit très longue, alors à chaque évaluation de la fonction `mots_position`, l'ensemble des mots est parcouru ce qui prend pas mal de temps. Pour améliorer cela, construire un dictionnaire `mots_dict` ayant pour clefs les tuples `(x,n)` et comme valeurs la liste des mots ayant le caractère `x` comme `n`-ième lettre, c'est-à-dire tel que `mots_dict[x,n]` retourne la même chose que `mots_position(mots, x , n)` à l'ordre près. Ainsi la liste `mots` n'est parcourue qu'une seule fois lors de la construction du dictionnaire et ensuite l'évaluation du dictionnaire est extrêmement rapide pour n'importe quelle requête.\n",
    "\n"
   ]
  },
  {
   "cell_type": "markdown",
   "metadata": {},
   "source": [
    "\n",
    "<!-- --- end exercise --- -->"
   ]
  }
 ],
 "metadata": {
  "kernelspec": {
   "display_name": "Python 3",
   "language": "python",
   "name": "python3"
  },
  "language_info": {
   "codemirror_mode": {
    "name": "ipython",
    "version": 3
   },
   "file_extension": ".py",
   "mimetype": "text/x-python",
   "name": "python",
   "nbconvert_exporter": "python",
   "pygments_lexer": "ipython3",
   "version": "3.6.9"
  }
 },
 "nbformat": 4,
 "nbformat_minor": 2
}