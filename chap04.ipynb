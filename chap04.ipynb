{
 "cells": [
  {
   "cell_type": "markdown",
   "metadata": {},
   "source": [
    "<!-- dom:TITLE: Programmation Python  pour les mathématiques -->\n",
    "# Programmation Python  pour les mathématiques\n",
    "<!-- dom:AUTHOR: Julien Guillod at [Sorbonne Université](http://www.sorbonne-universite.fr/), -->\n",
    "<!-- Author: -->  \n",
    "**Julien Guillod**, [Sorbonne Université](http://www.sorbonne-universite.fr/),\n",
    "Licence <a href=\"https://creativecommons.org/licenses/by-nc-nd/4.0/\">CC BY-NC-ND</a>\n",
    "\n",
    "\n",
    "L'entier des chapitres est disponible au format\n",
    "[HTML](https://python.guillod.org//) et [PDF](https://python.guillod.org//python.pdf).\n",
    "Ce notebook peut également être exécuté sur [GESIS](https://notebooks.gesis.org/binder/v2/gh/juguillod/python/master?filepath=chap04.ipynb).\n",
    "\n",
    "\n",
    "\n",
    "\n",
    "\n",
    "\n",
    "# 4 Calcul symbolique\n",
    "<div id=\"ch:sympy\"></div>\n",
    "\n",
    "En tant que langage généraliste, Python n'inclut pas par défaut certains concepts mathématiques. Un exemple déjà vu, concerne les vecteurs et les matrices numériques qui sont implémenté dans le module Numpy. Le but ici est d'introduire le module Sympy qui permet de faire du calcul symbolique. Par exemple, le nombre $\\sqrt{8}$ est représenté par Python comme un flottant:"
   ]
  },
  {
   "cell_type": "code",
   "execution_count": 1,
   "metadata": {
    "collapsed": false
   },
   "outputs": [],
   "source": [
    "import math\n",
    "math.sqrt(8)"
   ]
  },
  {
   "cell_type": "markdown",
   "metadata": {},
   "source": [
    "L'avantage de Sympy est que $\\sqrt{8}$ est gardé en tant racine et même automatiquement simplifié:"
   ]
  },
  {
   "cell_type": "code",
   "execution_count": 2,
   "metadata": {
    "collapsed": false
   },
   "outputs": [],
   "source": [
    "import sympy as sp\n",
    "sp.init_printing()\n",
    "sp.sqrt(8)"
   ]
  },
  {
   "cell_type": "markdown",
   "metadata": {},
   "source": [
    "A noter que la deuxième instruction, n'est pas nécessaire, mais permet de visualiser les résultats de manière plus jolie dans Jupyter Lab. Il est également assez courant d'importer toutes les fonctions de Sympy afin de ne pas avoir à mettre `sp.` devant chaque fonction:"
   ]
  },
  {
   "cell_type": "markdown",
   "metadata": {},
   "source": [
    "```Python\n",
    "        from sympy import *\n",
    "        init_printing()\n",
    "        sqrt(8)\n",
    "```"
   ]
  },
  {
   "cell_type": "markdown",
   "metadata": {},
   "source": [
    "mais il faut alors faire attention aux éventuels conflits entre fonctions. La documentation de Sympy est disponible [ici](http://docs.sympy.org/).\n",
    "\n",
    "**Concepts abordés.**\n",
    "\n",
    "* symboles\n",
    "\n",
    "* fonctions\n",
    "\n",
    "* simplification\n",
    "\n",
    "* analyse infinitésimale (limite, dérivation, intégration, développement limité)\n",
    "\n",
    "* preuve assistée par ordinateur\n",
    "\n",
    "* fonction pathologique\n",
    "\n",
    "* fonction de Green\n",
    "\n",
    "* coordonnées sphériques\n",
    "\n",
    "\n",
    "\n",
    "\n",
    "\n",
    "<!-- --- begin exercise --- -->\n",
    "\n",
    "# Exercice 4.1: Introduction à Sympy\n",
    "\n",
    "Avant de pourvoir utiliser des variables symboliques, il faut les déclarer comme symboles:"
   ]
  },
  {
   "cell_type": "code",
   "execution_count": 3,
   "metadata": {
    "collapsed": false
   },
   "outputs": [],
   "source": [
    "x = sp.Symbol(\"x\") # definit le symbole x\n",
    "y = sp.Symbol(\"y\", real=True) # définit la variable réelle y\n",
    "e = sp.Symbol(r\"\\varepsilon\", real=True, positive=True) # définit epsilon positif"
   ]
  },
  {
   "cell_type": "markdown",
   "metadata": {},
   "source": [
    "Ensuite il est possible de faire des opérations entre symboles:"
   ]
  },
  {
   "cell_type": "code",
   "execution_count": 4,
   "metadata": {
    "collapsed": false
   },
   "outputs": [],
   "source": [
    "x + 2*y + e/4 + x**2 + 3*x + 2*y"
   ]
  },
  {
   "cell_type": "markdown",
   "metadata": {},
   "source": [
    "La plupart des fonctions mathématiques sont implémentées symboliquement dans Sympy et il est également possible de les simplifier:"
   ]
  },
  {
   "cell_type": "code",
   "execution_count": 5,
   "metadata": {
    "collapsed": false
   },
   "outputs": [],
   "source": [
    "expr = sp.cos(x)**2 + sp.sin(x)**2 + (y**3 + y**2 - y - 1)/(y**2 + 2*y + 1) + sp.exp(-e)\n",
    "sp.simplify(expr)"
   ]
  },
  {
   "cell_type": "markdown",
   "metadata": {},
   "source": [
    "Finalement il est possible de faire des substitutions:"
   ]
  },
  {
   "cell_type": "code",
   "execution_count": 6,
   "metadata": {
    "collapsed": false
   },
   "outputs": [],
   "source": [
    "expr.subs(x,y) # substitue x par y\n",
    "expr.subs({y:x, e:y}) # substitue y par x et e par y"
   ]
  },
  {
   "cell_type": "markdown",
   "metadata": {},
   "source": [
    "puis par exemple de simplifier l'expression et de tracer son graphe en fonction de `x`:"
   ]
  },
  {
   "cell_type": "code",
   "execution_count": 7,
   "metadata": {
    "collapsed": false
   },
   "outputs": [],
   "source": [
    "f = sp.simplify(expr.subs({y:x, e:y}))\n",
    "sp.plot(f,(x,-2,6), title=f\"Graphique de ${sp.latex(f)}$\")"
   ]
  },
  {
   "cell_type": "markdown",
   "metadata": {},
   "source": [
    "<!-- dom:FIGURE: [https://python.guillod.org/fig/sympy-plot.png, width=600 frac=0.6] -->\n",
    "<!-- begin figure -->\n",
    "\n",
    "<p></p>\n",
    "<img src=\"https://python.guillod.org/fig/sympy-plot.png\" width=600>\n",
    "\n",
    "<!-- end figure -->\n",
    "\n",
    "\n",
    "**a)**\n",
    "Lire la documentation de la fonction `solve` et l'utiliser pour calculer les racines d'un polynôme général de degré deux, puis de degré trois.\n",
    "\n",
    "<!-- --- begin hint in exercise --- -->\n",
    "\n",
    "**Indication:**\n",
    "La documentation sur la résolution d'équations algébriques est disponible [ici](http://docs.sympy.org/latest/modules/solvers/solvers.html#algebraic-equations).\n",
    "\n",
    "<!-- --- end hint in exercise --- -->\n",
    "\n"
   ]
  },
  {
   "cell_type": "markdown",
   "metadata": {},
   "source": [
    "\n",
    "**b)**\n",
    "Lire la documentation des fonctions `evalf` et `N` pour évaluer l'expression $\\frac{\\pi^2}{4}$.\n",
    "\n",
    "<!-- --- begin hint in exercise --- -->\n",
    "\n",
    "**Indication:**\n",
    "La documentation sur l'évaluation numérique est disponible [ici](http://docs.sympy.org/latest/modules/evalf.html).\n",
    "\n",
    "<!-- --- end hint in exercise --- -->\n",
    "\n"
   ]
  },
  {
   "cell_type": "markdown",
   "metadata": {},
   "source": [
    "\n",
    "**c)**\n",
    "Déterminer la partie réelle et imaginaire de l'expression:"
   ]
  },
  {
   "cell_type": "markdown",
   "metadata": {},
   "source": [
    "$$\n",
    "\\bigg(\\frac{1+i\\sqrt{3}}{1+i}\\bigg)^{20} \\,.\n",
    "$$"
   ]
  },
  {
   "cell_type": "markdown",
   "metadata": {},
   "source": [
    "<!-- --- begin hint in exercise --- -->\n",
    "\n",
    "**Indication:**\n",
    "Voir la documentation [ici](https://docs.sympy.org/latest/modules/functions/elementary.html).\n",
    "\n",
    "<!-- --- end hint in exercise --- -->\n",
    "\n"
   ]
  },
  {
   "cell_type": "markdown",
   "metadata": {},
   "source": [
    "\n",
    "**d)**\n",
    "Lire la documentation de la fonction `diff` et calculer la dérivée de $x e^{x^{x^x}}$ par rapport à $x$.\n",
    "\n",
    "<!-- --- begin hint in exercise --- -->\n",
    "\n",
    "**Indication:**\n",
    "La documentation sur les dérivées est disponible [ici](http://docs.sympy.org/latest/tutorial/calculus.html#derivatives).\n",
    "\n",
    "<!-- --- end hint in exercise --- -->\n",
    "\n"
   ]
  },
  {
   "cell_type": "markdown",
   "metadata": {},
   "source": [
    "\n",
    "**e)**\n",
    "Lire la documentation de la fonction `integrate` et calculer les intégrales suivantes:"
   ]
  },
  {
   "cell_type": "markdown",
   "metadata": {},
   "source": [
    "$$\n",
    "\\begin{align*}\n",
    "I_{1} & =\\int x^{5}\\sin(x)\\,\\mathrm{d} x \\,, &  I_{2} & =\\int_{0}^{\\infty}\\sin(x^{2})\\,\\mathrm{d} x \\,.\n",
    "\\end{align*}\n",
    "$$"
   ]
  },
  {
   "cell_type": "markdown",
   "metadata": {},
   "source": [
    "\n",
    "**f)**\n",
    "Calculer avec Sympy les limites suivantes:"
   ]
  },
  {
   "cell_type": "markdown",
   "metadata": {},
   "source": [
    "$$\n",
    "\\begin{align*}\n",
    "L_{1} & =\\lim_{x\\to0}\\frac{\\sin(x)}{x}\\,, & L_{2} & =\\lim_{x\\to0}\\sin\\bigg(\\frac{1}{x}\\bigg)\\,, & L_{3} & =\\lim_{x\\to\\infty}\\frac{5x^{2}+3x+2y}{y(x-4)(x-y)}\\,.\n",
    "\\end{align*}\n",
    "$$"
   ]
  },
  {
   "cell_type": "markdown",
   "metadata": {},
   "source": [
    "\n",
    "**g)**\n",
    "Calculer le développement limité de $\\tan(x)$ en $x=0$ à l'ordre 10 et le développement asymptotique de $\\left(1 + \\frac{1}{n}\\right)^n$ pour $n\\to\\infty$ à l'ordre 5.\n",
    "\n"
   ]
  },
  {
   "cell_type": "markdown",
   "metadata": {},
   "source": [
    "\n",
    "**h)**\n",
    "Déterminer les valeurs propres de la matrice:"
   ]
  },
  {
   "cell_type": "markdown",
   "metadata": {},
   "source": [
    "$$\n",
    "\\begin{pmatrix}1 & a & 0\\\\ \n",
    "a & 2 & a\\\\ \n",
    "0 & a & 3\n",
    "\\end{pmatrix}\n",
    "$$"
   ]
  },
  {
   "cell_type": "markdown",
   "metadata": {},
   "source": [
    "<!-- --- begin hint in exercise --- -->\n",
    "\n",
    "**Indication:**\n",
    "La documentation sur les matrices symboliques est disponible [ici](http://docs.sympy.org/latest/tutorial/matrices.html).\n",
    "\n",
    "<!-- --- end hint in exercise --- -->\n",
    "\n"
   ]
  },
  {
   "cell_type": "markdown",
   "metadata": {},
   "source": [
    "\n",
    "<!-- --- end exercise --- -->\n",
    "\n",
    "\n",
    "\n",
    "\n",
    "<!-- --- begin exercise --- -->\n",
    "\n",
    "# Exercice 4.2: Applications\n",
    "\n",
    "Le but est d'utiliser Sympy pour résoudre symboliquement différents problèmes mathématiques en calculant le moins de choses possibles à la main.\n",
    "\n",
    "\n",
    "**a)**\n",
    "Déterminer le nombre de zéro que contient l'entier $123!$.\n",
    "\n"
   ]
  },
  {
   "cell_type": "markdown",
   "metadata": {},
   "source": [
    "\n",
    "**b)**\n",
    "Déterminer le rapport entre la hauteur et le rayon d'un cylindre de manière à minimiser son aire à volume fixé.\n",
    "\n"
   ]
  },
  {
   "cell_type": "markdown",
   "metadata": {},
   "source": [
    "\n",
    "**c)**\n",
    "Pour $x,y\\in\\mathbb{R}$ tels que $xy < 1$, démontrer que:"
   ]
  },
  {
   "cell_type": "markdown",
   "metadata": {},
   "source": [
    "$$\n",
    "\\arctan(x) + \\arctan(y) = \\arctan\\left(\\frac{x+y}{1-xy}\\right) \\,.\n",
    "$$"
   ]
  },
  {
   "cell_type": "markdown",
   "metadata": {},
   "source": [
    "<!-- --- begin hint in exercise --- -->\n",
    "\n",
    "**Indication:**\n",
    "Dériver l'équation par rapport à $x$ et justifier.\n",
    "\n",
    "<!-- --- end hint in exercise --- -->\n",
    "\n"
   ]
  },
  {
   "cell_type": "markdown",
   "metadata": {},
   "source": [
    "\n",
    "**d)**\n",
    "Démontrer la formule suivante due à Gauss:"
   ]
  },
  {
   "cell_type": "markdown",
   "metadata": {},
   "source": [
    "$$\n",
    "\\frac{\\pi}{4} = 12\\arctan\\left(\\frac{1}{38}\\right)+20\\arctan\\left(\\frac{1}{57}\\right)+7\\arctan\\left(\\frac{1}{239}\\right)+24\\arctan\\left(\\frac{1}{268}\\right) \\,.\n",
    "$$"
   ]
  },
  {
   "cell_type": "markdown",
   "metadata": {},
   "source": [
    "Il est impératif d'utiliser Sympy, la démonstration originale de Gauss faisant 25 pages, voir les pages 477 à 502 du deuxième volume de ses œuvres complètes disponible [ici](https://gallica.bnf.fr/ark:/12148/bpt6k99402s).\n",
    "\n",
    "<!-- --- begin hint in exercise --- -->\n",
    "\n",
    "**Indication:**\n",
    "Appliquer la fonction $\\tan$ de chaque côté de l'équation puis simplifier. La documentation sur les différentes fonctions de simplifications est disponible [ici](https://docs.sympy.org/latest/tutorial/simplification.html).\n",
    "\n",
    "<!-- --- end hint in exercise --- -->\n",
    "\n"
   ]
  },
  {
   "cell_type": "markdown",
   "metadata": {},
   "source": [
    "\n",
    "**e)**\n",
    "Déterminer le volume de la région:"
   ]
  },
  {
   "cell_type": "markdown",
   "metadata": {},
   "source": [
    "$$\n",
    "\\big\\{(x,y,z)\\in\\mathbb{R}^3: x^2+y^2 < z < 2x^2+4xy+6y^2, |y| < 5, |x| < 4\\big\\} \\,.\n",
    "$$"
   ]
  },
  {
   "cell_type": "markdown",
   "metadata": {},
   "source": [
    "\n",
    "**f)**\n",
    "Déterminer l'expression des coefficients de Fourier réels de la fonction $2\\pi$-périodique $f$ définie par $f(x)=|\\sin(x)|$.\n",
    "\n"
   ]
  },
  {
   "cell_type": "markdown",
   "metadata": {},
   "source": [
    "\n",
    "\n",
    "<!-- --- end exercise --- -->\n",
    "\n",
    "\n",
    "\n",
    "\n",
    "<!-- --- begin exercise --- -->\n",
    "\n",
    "# Exercice 4.3: Fonction pathologique\n",
    "\n",
    "Le but est de construire une fonction qui a visuellement l'air d'être régulière, mais qui en fait ne l'est pas.\n",
    "Soit la fonction $f:\\mathbb{R}\\to\\mathbb{R}$ définie par:"
   ]
  },
  {
   "cell_type": "markdown",
   "metadata": {},
   "source": [
    "$$\n",
    "f(x) = \\sum_{k=1}^{\\infty} \\frac{\\sin(k^2 x)}{k^5} \\,.\n",
    "$$"
   ]
  },
  {
   "cell_type": "markdown",
   "metadata": {},
   "source": [
    "Vu que la série converge absolument, la fonction $f$ est bien définie.\n",
    "\n",
    "\n",
    "**a)**\n",
    "A l'aide de Sympy calculer la fonction $g:\\mathbb{R}\\to\\mathbb{R}$ définie en gardant les 100 premiers termes de la série:"
   ]
  },
  {
   "cell_type": "markdown",
   "metadata": {},
   "source": [
    "$$\n",
    "g(x) = \\sum_{k=1}^{100} \\frac{\\sin(k^2 x)}{k^5} \\,,\n",
    "$$"
   ]
  },
  {
   "cell_type": "markdown",
   "metadata": {},
   "source": [
    "et représenter la fonction $g$ graphiquement.\n",
    "\n"
   ]
  },
  {
   "cell_type": "markdown",
   "metadata": {},
   "source": [
    "\n",
    "**b)**\n",
    "Estimer à la main l'erreur entre la fonction $f$ et $g$ en valeur absolue.\n",
    "\n"
   ]
  },
  {
   "cell_type": "markdown",
   "metadata": {},
   "source": [
    "\n",
    "**c)**\n",
    "Calculer la dérivée première et la dérivée seconde de $g$ et représenter graphiquement ces deux dérivées. Que pouvez-vous conclure ?\n",
    "\n"
   ]
  },
  {
   "cell_type": "markdown",
   "metadata": {},
   "source": [
    "\n",
    "**d)**\n",
    "Expliquer mathématiquement ce qui se passe.\n",
    "\n"
   ]
  },
  {
   "cell_type": "markdown",
   "metadata": {},
   "source": [
    "\n",
    "<!-- --- end exercise --- -->\n",
    "\n",
    "\n",
    "\n",
    "\n",
    "<!-- --- begin exercise --- -->\n",
    "\n",
    "# Exercice 4.4: <span style=\"color:red\">!</span> Fonction de Green du laplacien\n",
    "\n",
    "Le but final de cet exercice est de calculer entièrement automatiquement la fonction de Green du laplacien dans $\\mathbb{R}^3$, *i.e.* la solution satisfaisant"
   ]
  },
  {
   "cell_type": "markdown",
   "metadata": {},
   "source": [
    "$$\n",
    "\\Delta G(\\boldsymbol{x}) = \\delta(\\boldsymbol{x}) \\,,\n",
    "$$"
   ]
  },
  {
   "cell_type": "markdown",
   "metadata": {},
   "source": [
    "dans $\\mathbb{R}^3$ où $\\delta(\\boldsymbol{x})$ est la distribution de Dirac.\n",
    "\n",
    "Pour cela, nous introduisons les coordonnées sphériques $\\boldsymbol{x}^\\prime = (r,\\theta,\\varphi)$ avec $r>0$, $0 \\leq \\theta \\leq \\pi$, et $0 \\leq \\varphi < 2\\pi$ caractérisées par:"
   ]
  },
  {
   "cell_type": "markdown",
   "metadata": {},
   "source": [
    "$$\n",
    "\\begin{align*}\n",
    "x_1 & =r\\cos\\varphi\\sin\\theta\\\\ \n",
    "x_2 & =r\\sin\\varphi\\sin\\theta\\\\ \n",
    "x_3 & =r\\cos\\theta \\,.\n",
    "\\end{align*}\n",
    "$$"
   ]
  },
  {
   "cell_type": "markdown",
   "metadata": {},
   "source": [
    "**a)**\n",
    "Définir une fonction `to_spherical(expr)` permettant de convertir en coordonnées sphériques une expression donnée en coordonnées cartésiennes.\n",
    "\n"
   ]
  },
  {
   "cell_type": "markdown",
   "metadata": {},
   "source": [
    "\n",
    "**b)**\n",
    "Définir une fonction `to_cartesian(expr)` permettant de convertir en coordonnées cartésiennes une expression donnée en coordonnées sphériques.\n",
    "\n"
   ]
  },
  {
   "cell_type": "markdown",
   "metadata": {},
   "source": [
    "\n",
    "**c)**\n",
    "Calculer les facteurs d'échelle des coordonnées sphériques:"
   ]
  },
  {
   "cell_type": "markdown",
   "metadata": {},
   "source": [
    "$$\n",
    "h_i = \\left\\Vert \\frac{\\partial\\boldsymbol{x}}{\\partial x^\\prime_i} \\right\\Vert.\n",
    "$$"
   ]
  },
  {
   "cell_type": "markdown",
   "metadata": {},
   "source": [
    "\n",
    "**d)**\n",
    "Définir une fonction `gradient(f)` permettant de calculer le gradient d'une fonction $f:\\mathbb{R}^3\\to\\mathbb{R}$ en coordonnées sphériques:"
   ]
  },
  {
   "cell_type": "markdown",
   "metadata": {},
   "source": [
    "$$\n",
    "\\boldsymbol{\\nabla}f = \\left( \\frac{1}{h_i}\\frac{\\partial f}{\\partial x^\\prime_i} \\right)_{i=1}^3\\,.\n",
    "$$"
   ]
  },
  {
   "cell_type": "markdown",
   "metadata": {},
   "source": [
    "\n",
    "**e)**\n",
    "Faire de même pour définir le laplacien en coordonnées sphériques:"
   ]
  },
  {
   "cell_type": "markdown",
   "metadata": {},
   "source": [
    "$$\n",
    "\\Delta f = \\sum_{i=1}^3 \\frac{1}{J} \\frac{\\partial}{\\partial x^\\prime_i} \\left( \\frac{J}{h_i^2} \\frac{\\partial f}{\\partial x^\\prime_i} \\right) \\quad \\text{où} \\quad J = \\prod_{i=1}^3 h_i \\,.\n",
    "$$"
   ]
  },
  {
   "cell_type": "markdown",
   "metadata": {},
   "source": [
    "\n",
    "**f)**\n",
    "Trouver les solutions radiales (*i.e.* ne dépendant que de la variable $r$) de l'équation $\\Delta G = 0$ dans $\\mathbb{R}^3\\setminus\\{\\boldsymbol{0}\\}$.\n",
    "\n",
    "<!-- --- begin hint in exercise --- -->\n",
    "\n",
    "**Indication:**\n",
    "Regarder la documentation de la fonction `dsolve` pour résoudre une équation différentielle.\n",
    "\n",
    "<!-- --- end hint in exercise --- -->\n",
    "\n"
   ]
  },
  {
   "cell_type": "markdown",
   "metadata": {},
   "source": [
    "\n",
    "**g)**\n",
    "Déterminer les équations que doivent satisfaire les constantes d'intégration pour que la solution précédente satisfasse en coordonnées cartésiennes:"
   ]
  },
  {
   "cell_type": "markdown",
   "metadata": {},
   "source": [
    "$$\n",
    "\\lim_{|\\boldsymbol{x}|\\to\\infty} G(\\boldsymbol{x}) = 0 \\quad \\text{et} \\quad \\Delta G(\\boldsymbol{x}) = \\delta(\\boldsymbol{x}) \\,.\n",
    "$$"
   ]
  },
  {
   "cell_type": "markdown",
   "metadata": {},
   "source": [
    "<!-- --- begin hint in exercise --- -->\n",
    "\n",
    "**Indication:**\n",
    "Il faut transformer les deux conditions en coordonnées sphériques.\n",
    "La première condition s'exprime en coordonnées sphériques par:"
   ]
  },
  {
   "cell_type": "markdown",
   "metadata": {},
   "source": [
    "$$\n",
    "\\lim_{r\\to\\infty} G(r) = 0 \\,,\n",
    "$$"
   ]
  },
  {
   "cell_type": "markdown",
   "metadata": {},
   "source": [
    "et la seconde est équivalente à:"
   ]
  },
  {
   "cell_type": "markdown",
   "metadata": {},
   "source": [
    "$$\n",
    "\\lim_{r \\to 0} \\int_{0}^{\\pi} \\int_{0}^{2\\pi} \\big( \\boldsymbol{\\nabla} G(r) \\boldsymbol{\\cdot} \\boldsymbol{e}_r \\big) \\, J(r,\\theta,\\varphi) \\, \\mathrm{d}\\varphi \\mathrm{d}\\theta = 1\\,.\n",
    "$$"
   ]
  },
  {
   "cell_type": "markdown",
   "metadata": {},
   "source": [
    "<!-- --- end hint in exercise --- -->\n",
    "\n"
   ]
  },
  {
   "cell_type": "markdown",
   "metadata": {},
   "source": [
    "\n",
    "**h)**\n",
    "Résoudre les équations sur les constantes d'intégrations et substituer dans la solution radial de $\\Delta G = 0$ pour obtenir l'expression de la fonction de Green du laplacien en coordonnées sphériques. Finalement déterminer la fonction de Green $G$ du laplacien dans $\\mathbb{R}^3$ en coordonnées cartésiennes.\n",
    "\n"
   ]
  },
  {
   "cell_type": "markdown",
   "metadata": {},
   "source": [
    "\n",
    "**i)**\n",
    "<span style=\"color:red\">!!</span>\n",
    "Soit $g:\\mathbb{R}^3 \\to \\mathbb{R}$ une fonction lisse à support compact invariante par rotations selon l'axe vertical. Déterminer le comportement asymptotique à grandes distances de la solution de l'équation:"
   ]
  },
  {
   "cell_type": "markdown",
   "metadata": {},
   "source": [
    "$$\n",
    "\\Delta f(\\boldsymbol{x}) = g(\\boldsymbol{x}) \\,\n",
    "$$"
   ]
  },
  {
   "cell_type": "markdown",
   "metadata": {},
   "source": [
    "jusqu'à l'ordre deux, *i.e.* les termes décroissant comme $|\\boldsymbol{x}|^{-1}$ et comme $|\\boldsymbol{x}|^{-2}$.\n",
    "\n",
    "<!-- --- begin hint in exercise --- -->\n",
    "\n",
    "**Indication:**\n",
    "La solution est donnée par la formule de Green:"
   ]
  },
  {
   "cell_type": "markdown",
   "metadata": {},
   "source": [
    "$$\n",
    "f(\\boldsymbol{x}) = \\int_{\\mathbb{R}^3} G(\\boldsymbol{x}-\\boldsymbol{x}_0) g(\\boldsymbol{x}_0) \\, \\mathrm{d}^3\\boldsymbol{x}_0 = \\int_{B_R} G(\\boldsymbol{x}-\\boldsymbol{x}_0) g(\\boldsymbol{x}_0) \\, \\mathrm{d}^3\\boldsymbol{x}_0 \\,,\n",
    "$$"
   ]
  },
  {
   "cell_type": "markdown",
   "metadata": {},
   "source": [
    "où $R$ est choisi de sorte à ce que le support de $g$ soit contenu dans $B_R$.\n",
    "Pour calculer le développement asymptotique de cette intégrale, la première étape est de convertir $G(\\boldsymbol{x}-\\boldsymbol{x}_0)$ en coordonnées sphériques pour $\\boldsymbol{x}$ et $\\boldsymbol{x}_0$. Vu que $g$ est invariante par rotations selon l'axe vertical, alors en coordonnées sphérique $g$ est indépendante de $\\varphi$ et est donné par $g(r,\\theta)$.\n",
    "La seconde étape est de transformer l'intégrale en coordonnées sphériques avec une intégrale triple sur $r_0$, $\\theta_0$ et $\\varphi_0$.\n",
    "La troisième étape est de calculer le développement asymptotique de l'intégrant lorsque $r\\to\\infty$, jusqu'à l'ordre deux. Finalement, vu que $r_0$, $\\theta_0$ et $\\varphi_0$ sont bornés, alors l'intégration commute avec le développement asymptotique et le résultat final est donné par l'intégration individuelle des deux termes du développement asymptotique.\n",
    "\n",
    "<!-- --- end hint in exercise --- -->\n",
    "\n"
   ]
  },
  {
   "cell_type": "markdown",
   "metadata": {},
   "source": [
    "\n",
    "<!-- --- end exercise --- -->"
   ]
  }
 ],
 "metadata": {
  "kernelspec": {
   "display_name": "Python 3",
   "language": "python",
   "name": "python3"
  },
  "language_info": {
   "codemirror_mode": {
    "name": "ipython",
    "version": 3
   },
   "file_extension": ".py",
   "mimetype": "text/x-python",
   "name": "python",
   "nbconvert_exporter": "python",
   "pygments_lexer": "ipython3",
   "version": "3.6.9"
  }
 },
 "nbformat": 4,
 "nbformat_minor": 2
}