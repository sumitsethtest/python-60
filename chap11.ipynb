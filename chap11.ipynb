{
 "cells": [
  {
   "cell_type": "markdown",
   "metadata": {},
   "source": [
    "<!-- dom:TITLE: Programmation Python  pour les mathématiques -->\n",
    "# Programmation Python  pour les mathématiques\n",
    "<!-- dom:AUTHOR: Julien Guillod at [Sorbonne Université](http://www.sorbonne-universite.fr/), -->\n",
    "<!-- Author: -->  \n",
    "**Julien Guillod**, [Sorbonne Université](http://www.sorbonne-universite.fr/),\n",
    "Licence <a href=\"https://creativecommons.org/licenses/by-nc-nd/4.0/\">CC BY-NC-ND</a>\n",
    "\n",
    "\n",
    "L'entier des chapitres est disponible au format\n",
    "[HTML](https://python.guillod.org//) et [PDF](https://python.guillod.org//python.pdf).\n",
    "Ce notebook peut également être exécuté sur [GESIS](https://notebooks.gesis.org/binder/v2/gh/juguillod/python/master?filepath=chap11.ipynb).\n",
    "\n",
    "\n",
    "\n",
    "\n",
    "\n",
    "\n",
    "# 11 Cryptographie\n",
    "<div id=\"ch:cryptographie\"></div>\n",
    "\n",
    "Depuis le code de César, les méthodes cryptographiques permettant de transmettre des messages secrets ont évoluées en suivant les progrès permettant de les casser. La méthode Vigenère qui est une amélioration du code de César sera étudiée, et nous verrons comment il est possible de casser cette méthode de chiffrement. Ensuite, la méthode de chiffrement RSA qui est une des méthodes de cryptographie asymétrique les plus utilisées actuellement sera introduite.\n",
    "\n",
    "**Concepts abordés.**\n",
    "\n",
    "* code Vigenère\n",
    "\n",
    "* plus grand divisieur commun\n",
    "\n",
    "* importation de texte\n",
    "\n",
    "* nombre premier et pseudo-premier\n",
    "\n",
    "* petit théorème de Fermat\n",
    "\n",
    "* algorithme d'Eucilde\n",
    "\n",
    "* algorithme de Rabin-Miller\n",
    "\n",
    "* optimisation par décorateur\n",
    "\n",
    "* chiffrement asymétrique RSA\n",
    "\n",
    "\n",
    "\n",
    "\n",
    "\n",
    "<!-- --- begin exercise --- -->\n",
    "\n",
    "# Exercice 11.1: Code de Vigenère\n",
    "\n",
    "Le code de Vigenère consiste à choisir une clef formée par un mot secret (en majuscules) et à le transformer en un vecteur dont les éléments sont les positions de ces lettres dans l'alphabet. Par exemple, \"ASECRET\" correspond à (0, 18, 4, 2, 17, 4, 19). Pour coder un texte (en majuscules, sans espace ni ponctuation) avec la clef \"ASECRET\" il suffit de décaler la première lettre par 0, la seconde par 18, la troisième par 4, et ainsi de suite et de recommencer en boucle. Les détails en particulier historiques sont disponibles sur [Wikipédia](https://fr.wikipedia.org/wiki/Chiffre_de_Vigenère).\n",
    "\n",
    "\n",
    "**a)**\n",
    "Écrire une fonction `to_int(s)` qui transforme un caractère en sa place dans l'alphabet et écrire la fonction inverse `to_chr(i)`.\n",
    "\n",
    "<!-- --- begin hint in exercise --- -->\n",
    "\n",
    "**Indication:**\n",
    "Voir la documentation des fonctions `ord` et `chr`.\n",
    "\n",
    "<!-- --- end hint in exercise --- -->\n",
    "\n"
   ]
  },
  {
   "cell_type": "markdown",
   "metadata": {},
   "source": [
    "\n",
    "**b)**\n",
    "Écrire une fonction `crypt(text, key)` qui chiffre `text` avec le mot secret `key`.\n",
    "\n"
   ]
  },
  {
   "cell_type": "markdown",
   "metadata": {},
   "source": [
    "\n",
    "**c)**\n",
    "Écrire une fonction permettant de déchiffrer un texte en connaissant la clef.\n",
    "\n"
   ]
  },
  {
   "cell_type": "markdown",
   "metadata": {},
   "source": [
    "\n",
    "\n",
    "<!-- --- end exercise --- -->\n",
    "\n",
    "\n",
    "\n",
    "\n",
    "<!-- --- begin exercise --- -->\n",
    "\n",
    "# Exercice 11.2: <span style=\"color:red\">!</span> Casser le code de Vigenère\n",
    "\n",
    "Charles Babbage a été le premier a casser le code de Vigenère. L'idée est que trois lettres consécutives apparaissant plusieurs fois dans le texte chiffré ont toutes les chances d'être la conséquence du chiffrement des mêmes lettres du message avec les mêmes lettres de la clé. Cela est encore plus probable avec un groupe de quatre lettres. Ainsi l'espacement entre deux mêmes groupes de lettres chiffrées est un multiple de la longueur de la clé. Par exemple, si la répétition d'un groupe est espacée de 28 lettres, puis celle d'un autre de 91, le plus grand diviseur commun de 28 et 91 est 7. Ainsi il est probable que la clé possède 7 lettres. Ensuite connaissant la taille de la clef, il suffit de se baser sur le fait que la lettre \"E\" est la plus courante en français. Pour que cette stratégie ait une chance de réussir, il faut que la taille du texte soit assez importante.\n",
    "\n",
    "\n",
    "**a)**\n",
    "Écrire une fonction permettant de calculer le plus grand diviseur commun (PGDC) entre deux nombre. Écrire une autre fonction permettant de calculer le PGDC entre une liste de nombres.\n",
    "\n"
   ]
  },
  {
   "cell_type": "markdown",
   "metadata": {},
   "source": [
    "\n",
    "**b)**\n",
    "Visiter le site du projet [Gutenberg](http://www.gutenberg.org/browse/languages/fr), choisir votre texte français préféré et télécharger-le au format \"Plain Text\". Écrire une fonction qui convertisse le texte en majuscules et le débarrasse de toute la ponctuation et autre.\n",
    "\n",
    "<!-- --- begin hint in exercise --- -->\n",
    "\n",
    "**Indication:**\n",
    "Pour convertir un texte en majuscules (en convertissant les accents) et supprimer tous les caractères de ponctuations et autres, il est possible d'utiliser la fonction suivante:"
   ]
  },
  {
   "cell_type": "code",
   "execution_count": 7,
   "metadata": {
    "collapsed": false
   },
   "outputs": [],
   "source": [
    "import unicodedata, re\n",
    "def convert_upper(text):\n",
    "    # convertir en majuscules\n",
    "    text = text.upper()\n",
    "    # convertir les accents\n",
    "    text = unicodedata.normalize('NFKD', text)\n",
    "    # supprimer les caractères spéciaux\n",
    "    regex = re.compile('[^a-zA-Z]')\n",
    "    text = regex.sub('', text)\n",
    "    return text"
   ]
  },
  {
   "cell_type": "markdown",
   "metadata": {},
   "source": [
    "<!-- --- end hint in exercise --- -->\n",
    "\n"
   ]
  },
  {
   "cell_type": "markdown",
   "metadata": {},
   "source": [
    "\n",
    "**c)**\n",
    "Garder environ 1000 caractères au milieu du texte choisi et chiffrer le avec une clef. Écrire ensuite une fonction permettant de déterminer la longueur de la clef en regardant dans le message chiffré les chaînes identiques de trois caractères ou plus.\n",
    "\n",
    "<!-- --- begin hint in exercise --- -->\n",
    "\n",
    "**Indication:**\n",
    "Former tout d'abord un dictionnaire avec comme clef toutes les occurrences de trois lettres et comme valeur les positions de occurrences. Ensuite déterminer la liste des distances entre les occurrences de trois lettres, puis calculer le PGCD de ces distances. Si ce PGCD est égal à 1 ou est trop petit, alors il réessayer mais avec des mots de longueur plus grande.\n",
    "\n",
    "<!-- --- end hint in exercise --- -->\n",
    "\n"
   ]
  },
  {
   "cell_type": "markdown",
   "metadata": {},
   "source": [
    "\n",
    "**d)**\n",
    "Écrire une fonction permettant de décrypter un message chiffré en retournant la clef. Essayer de décrypter le texte de votre auteur favori avec cette fonction.\n",
    "\n",
    "<!-- --- begin hint in exercise --- -->\n",
    "\n",
    "**Indication:**\n",
    "Pour trouver la première lettre de la clef, il faut calculer le nombre d'occurrences des 26 lettres de l'alphabet dans le message chiffré qui ont été chiffé avec le premier caractère de la clef. La lettre ayant l'occurrence maximale doit correspondre à la lettre \"E\". Il suffit ensuite de faire la même chose pour trouver les autres lettres de la clef.\n",
    "\n",
    "<!-- --- end hint in exercise --- -->\n",
    "\n"
   ]
  },
  {
   "cell_type": "markdown",
   "metadata": {},
   "source": [
    "\n",
    "<!-- --- end exercise --- -->\n",
    "\n",
    "\n",
    "\n",
    "\n",
    "<!-- --- begin exercise --- -->\n",
    "\n",
    "# Exercice 11.3: Générer des nombres premiers\n",
    "\n",
    "La plupart des algorithmes de cryptage actuels sont basés sur l'utilisation de grands nombres premiers. Le but est d'écrire une fonction permettant de générer relativement rapidement des nombres dit pseudo-premiers, c'est-à-dire qui sont premiers avec une probabilité extrêmement grande. La première étape est de générer un grand nombre aléatoire, c'est-à-dire ayant un certain nombre de bits. Ensuite un test de primalité permet de décider si ce nombre est premier ou pas. Si $\\pi(n)$ désigne le nombre de nombres premiers $\\leq n$ alors, asymptotiquement $\\pi(n) \\approx \\frac{n}{\\ln n}$. Ainsi en tirant au hasard un nombre inférieur à $n$ la probabilité qu'il soit premier est d'environ $1/\\ln(n)$. Par exemple pour générer un nombre premier de 1024 bits (le minimum garantissant une sécurité raisonnable actuellement), c'est-à-dire de l'ordre de $2^{1024}$, il faut essayer $\\ln(2^{1024}) \\approx 710$ nombres aléatoires avant d'en trouver un qui soit premier. Vu que tous les nombres pairs sont clairement pas premiers, il suffit d'en tester en moyenne $355$.\n",
    "\n",
    "\n",
    "**a)**\n",
    "Écrire un programme permettant de générer un nombre aléatoire impair de $k$ bits, c'est-à-dire compris entre $2^{k-1}$ et $2^{k}$.\n",
    "\n",
    "<!-- --- begin hint in exercise --- -->\n",
    "\n",
    "**Indication:**\n",
    "La façon la plus rapide d'implémenter cela est d'utiliser les opérations sur les bits expliquées [ici](https://docs.python.org/fr/3.6/reference/expressions.html#binary-bitwise-operations).\n",
    "\n",
    "<!-- --- end hint in exercise --- -->\n",
    "\n"
   ]
  },
  {
   "cell_type": "markdown",
   "metadata": {},
   "source": [
    "\n",
    "La façon la plus simple de déterminer si un nombre $n$ est premier est d'essayer de le diviser par tous les nombres entiers $1 < d < n$. Deux remarques permettent de ne pas tester tous les $d$ entre 2 et $n-1$. La première est qu'il est inutile d'essayer les $d$ pairs plus grands que 2. La seconde est qu'il est inutile de tester des nombres plus grands que $\\sqrt{n}$.\n",
    "\n",
    "**b)**\n",
    "Écrire un algorithme `isprime(n)` permettant de déterminer si un nombre est premier ou pas.\n",
    "\n"
   ]
  },
  {
   "cell_type": "markdown",
   "metadata": {},
   "source": [
    "\n",
    "**c)**\n",
    "Écrire une fonction `generate(k,primality)` permettant de générer un nombre premier aléatoire de `k` bits avec le test de primalité `primality`. Tester avec `primality=isprime`. Est-il raisonnable de pouvoir espérer générer un nombre premier de 1024 bit avec cet algorithme ?\n",
    "\n"
   ]
  },
  {
   "cell_type": "markdown",
   "metadata": {},
   "source": [
    "\n",
    "<!-- --- end exercise --- -->\n",
    "\n",
    "\n",
    "\n",
    "\n",
    "<!-- --- begin exercise --- -->\n",
    "\n",
    "# Exercice 11.4: Générer des nombres pseudo-premiers\n",
    "\n",
    "L'algorithme précédent permettant de générer des nombres premiers étant inutilisable pour générer des grands nombres premiers, une autre approche, probabiliste, est à préconiser. Un test de primalité probabiliste décide qu'un nombre est premier s'il est premier avec une probabilité très grande. Un tel nombre est dit pseudo-premier. Ainsi un test probabiliste peut se tromper et penser qu'un nombre est premier alors qu'en fait il ne l'est pas.\n",
    "\n",
    "Le test de primalité le plus simple est basé sur le petit théorème de Fermat: si $n$ est premier, alors $a^{n-1}=1 \\pmod n$ pour tout $1 \\leq a \\leq n-1$. Ainsi si on trouve un $a$ tel que $a^{n-1}\\neq1 \\pmod n$ alors $n$ n'est pas premier. Le test de primalité de Fermat test $N$ valeurs de $a$ choisies aléatoirement et si $a^{n-1}=1 \\pmod n$ pour ces $N$ valeurs alors il déclare que $n$ est probablement premier. Les nombres de Carmichael sont pas premiers, mais satisfont $a^{n-1}=1 \\pmod n$ pour tout $a$ premier avec $n$. Les premiers nombres de Carmichael sont 561, 1105 et 1729. Si $n$ n'est pas un nombre de Carmichael, alors la probabilité que le test de Fermat se trompe est de $2^{-N}$. En choisissant par exemple $N=128$, on obtient une probabilité de se tromper inférieure à $3\\times 10^{-39}$.\n",
    "\n",
    "\n",
    "**a)**\n",
    "Écrire une fonction implémentant le test de primalité de Fermat. Utiliser ce test pour générer des nombres premiers aléatoires.\n",
    "\n",
    "<!-- --- begin hint in exercise --- -->\n",
    "\n",
    "**Indication:**\n",
    "Voir la documentation de la fonction `pow` pour une implémentation rapide. Si OpenSSL est installé sur votre ordinateur, il est facile de vérifier si un nombre est premier avec la commande `openssl prime 11` par exemple pour 11.\n",
    "\n",
    "<!-- --- end hint in exercise --- -->\n",
    "\n"
   ]
  },
  {
   "cell_type": "markdown",
   "metadata": {},
   "source": [
    "\n",
    "**b)**\n",
    "<span style=\"color:red\">!</span> Améliorer la rapidité du l'algorithme précédent en testant d'abord si $n$ est divisible par les nombres premiers inférieurs à 1000 avant d'appliquer le test de Fermat.\n",
    "\n"
   ]
  },
  {
   "cell_type": "markdown",
   "metadata": {},
   "source": [
    "\n",
    "Le test de primalité de Fermat permet de générer de grands nombres pseudo-premiers avec une bonne probabilité d'être effectivement premier. Le problème principal vient du fait de l'existence des nombres de Carmichael qui sont exclus de cette probabilité. Le test de primalité de Miller-Rabin permet d'éviter se problème.\n",
    "\n",
    "**c)**\n",
    "<span style=\"color:red\">!!</span> Comprendre et implémenter la méthode Rabin-Miller expliquée en détails sur [Wikipédia](https://fr.wikipedia.org/wiki/Test_de_primalité_de_Miller-Rabin).\n",
    "\n"
   ]
  },
  {
   "cell_type": "markdown",
   "metadata": {},
   "source": [
    "\n",
    "<!-- --- end exercise --- -->\n",
    "\n",
    "\n",
    "\n",
    "\n",
    "<!-- --- begin exercise --- -->\n",
    "\n",
    "# Exercice 11.5: Chiffrement RSA\n",
    "\n",
    "L'algorithme RSA des noms de Ronald Rivest, Adi Shamir et Leonard Adleman qui l'ont inventé en 1983 est un des algorithmes de cryptographie asymétrique les plus utilisé encore actuellement. Un chiffrement asymétrique permet de transmettre un message crypté à une personne A sans avoir eu auparavant besoin de transmettre une clef secrète à la personne B qui chiffre le message. La création par A d'une clef publique suffit à B pour chiffrer le message et pour que A puisse le déchiffrer avec sa clef privé. Il y a trois grandes étapes dans l'algorithme RSA:\n",
    "\n",
    "**Création des clefs.**\n",
    "La personne A voulant recevoir un message secret, choisit deux très grands nombres premiers $p$ et $q$ qu'il garde secret. Ensuite elle calcule $n=pq$ et l'indicatrice d'Euler $\\varphi(n)=(p-1)(q-1)$ qui compte le nombre d'entiers compris entre 1 et $n$ qui sont premiers avec $n$. Puis elle choisit un exposant de chiffrement $e$ qui est premier avec $\\varphi(n)$. La clef publique de la personne A est donné par le couple $(n,e)$. Finalement, la personne A calcul l'exposant de déchiffrement $d$ qui est l'inverse de $e$ modulo $\\varphi(n)$, *i.e.* tel que $ed = 1 \\pmod{\\varphi(n)}$. La clef privée de A est $(p,q,d)$.\n",
    "\n",
    "**Chiffrement du message.**\n",
    "Pour chiffrer son message, la personne B le transforme tout d'abord en un nombre entier $M < n$. Le message chiffré est alors donné par"
   ]
  },
  {
   "cell_type": "markdown",
   "metadata": {},
   "source": [
    "$$\n",
    "C = M^e \\pmod n \\,.\n",
    "$$"
   ]
  },
  {
   "cell_type": "markdown",
   "metadata": {},
   "source": [
    "**Déchiffrement du message.**\n",
    "Le message chiffré $C$ est alors transmis à A. Pour le déchiffrer, A calcule"
   ]
  },
  {
   "cell_type": "markdown",
   "metadata": {},
   "source": [
    "$$\n",
    "M = C^d \\pmod n \\,\n",
    "$$"
   ]
  },
  {
   "cell_type": "markdown",
   "metadata": {},
   "source": [
    "qui est à nouveau le message original.\n",
    "\n",
    "**Notice.**\n",
    "\n",
    "A noter que les nombres premiers $p$ et $q$ doivent être vraiment aléatoires, sinon il est \"facile\" de deviner leurs valeurs. Les nombres aléatoires générés par le module `random` le sont avec l'algorithme de Mersenne Twister. Cet algorithme n'est pas considéré comme cryptographiquement sur dans le sens où une observation d'environ un millier de nombres générés aléatoirement par cet algorithme suffit à prédire toutes les itérations futures. Pour générer des nombres aléatoires cryptographiquement sûrs il faudrait utiliser le module [`secrets`](https://docs.python.org/3.6/library/secrets.html).\n",
    "\n",
    "\n",
    "\n",
    "\n",
    "**a)**\n",
    "Montrer mathématiquement que le message déchiffré correspond bien au message original.\n",
    "\n",
    "<!-- --- begin hint in exercise --- -->\n",
    "\n",
    "**Indication:**\n",
    "Si $a = b \\pmod{\\varphi(n)}$ et $M$ est premier avec $n$, alors $M^a = M^b \\pmod n$.\n",
    "\n",
    "<!-- --- end hint in exercise --- -->\n",
    "\n"
   ]
  },
  {
   "cell_type": "markdown",
   "metadata": {},
   "source": [
    "\n",
    "**b)**\n",
    "Donné $e$ et $\\varphi(n)$ écrire une fonction `bezout(e, phi)` permettant de déterminer $d$ tel que $ed = 1 \\pmod{\\varphi(n)}$.\n",
    "\n",
    "<!-- --- begin hint in exercise --- -->\n",
    "\n",
    "**Indication:**\n",
    "Utiliser l'algorithme d'Euclide généralisé qui permet de déterminer le PGCD $g$ entre deux nombre $a$ et $b$ ainsi que $x$ et $y$ satisfaisant $ax+by=g$.\n",
    "\n",
    "<!-- --- end hint in exercise --- -->\n",
    "\n"
   ]
  },
  {
   "cell_type": "markdown",
   "metadata": {},
   "source": [
    "\n",
    "**c)**\n",
    "Écrire un algorithme `generate_keys(length)` qui génère des nombres premiers $p$ et $q$ tels que $n$ ait `length` bits, puis détermine $\\varphi(n)$, $e$ et $d$ et enfin retourne la clef publique $(n,e)$ et la clef privée $(p,q,d)$.\n",
    "\n"
   ]
  },
  {
   "cell_type": "markdown",
   "metadata": {},
   "source": [
    "\n",
    "**d)**\n",
    "En choisissant d'encoder chaque caractère sur 8 bits, une chaine de caractère de longueur $\\ell$ s'écrit comme une liste $(a_0,a_1,\\dots a_\\ell)$ avec chaque $0 \\leq a_i \\leq 255$. Cette liste peut être convertie en un entier $k$ de la façon suivante:"
   ]
  },
  {
   "cell_type": "markdown",
   "metadata": {},
   "source": [
    "$$\n",
    "k = \\sum_{i=0}^\\ell a_i 256^i\n",
    "$$"
   ]
  },
  {
   "cell_type": "markdown",
   "metadata": {},
   "source": [
    "Écrire une fonction `toint` et une fonction `tostr` permettant respectivement de convertir une chaîne de caractères en cet entier et inversement.\n",
    "\n"
   ]
  },
  {
   "cell_type": "markdown",
   "metadata": {},
   "source": [
    "\n",
    "**e)**\n",
    "Écrire une fonction pour chiffrer un texte avec une clef publique et une autre permettant de le déchiffrer avec la clef privée. Pour cela il faut s'assurer que le texte soit convertible en un entier inférieur à $n$, sinon il faut le découper en blocs et les chiffrer séparément.\n",
    "\n"
   ]
  },
  {
   "cell_type": "markdown",
   "metadata": {},
   "source": [
    "\n",
    "<!-- --- end exercise --- -->\n",
    "\n",
    "\n",
    "\n",
    "\n",
    "<!-- --- begin exercise --- -->\n",
    "\n",
    "# Exercice 11.6: <span style=\"color:red\">!!!</span> Casser le chiffrement RSA\n",
    "\n",
    "Voici une clef publique"
   ]
  },
  {
   "cell_type": "code",
   "execution_count": 34,
   "metadata": {
    "collapsed": false
   },
   "outputs": [],
   "source": [
    "(73722206893746878039310298412768333517547506486427363913406174815240823284857, \\\n",
    "33921003048397584579835360477549223828723590186917811609938274008840181968499)"
   ]
  },
  {
   "cell_type": "markdown",
   "metadata": {},
   "source": [
    "et un message chiffré avec cette clef publique:"
   ]
  },
  {
   "cell_type": "code",
   "execution_count": 35,
   "metadata": {
    "collapsed": false
   },
   "outputs": [],
   "source": [
    "[22973877239788873882837788687834740958145091979501565167824992597825600406974,\n",
    " 48503379361942356829127901273483580639426474600801539865525830360302350602689,\n",
    " 2224798454942012298637628855810886175704245737423608868190613249161861526055,\n",
    " 4500720701216145302036625979462397411127541711596515042635302843142748047486,\n",
    " 35445000935671280429079877747553363121645781096430386417428307485228904386825,\n",
    " 48627712259501563035806415688912560481020577805784144969245386699539463833735,\n",
    " 71868389092768589092947834441169271512227882469129366706758279960751502739157,\n",
    " 26019603019482382085505727901092092122241438959147654068117475447783602572984,\n",
    " 65039729472521706954510624828984329309712256390395416184704490683377874857302,\n",
    " 11805320141319662342135552217286927868466795280631816945032387836622798495117]"
   ]
  },
  {
   "cell_type": "markdown",
   "metadata": {},
   "source": [
    "**a)**\n",
    "Décrypter le message précédent !\n",
    "\n",
    "<!-- --- begin hint in exercise --- -->\n",
    "\n",
    "**Indication:**\n",
    "Il est probablement nécessaire de choisir un algorithme adapté, par exemple basé sur des cribles quadratiques (QS, MPQS, SIQS).\n",
    "\n",
    "<!-- --- end hint in exercise --- -->\n",
    "\n",
    "<!-- --- end exercise --- -->"
   ]
  }
 ],
 "metadata": {
  "kernelspec": {
   "display_name": "Python 3",
   "language": "python",
   "name": "python3"
  },
  "language_info": {
   "codemirror_mode": {
    "name": "ipython",
    "version": 3
   },
   "file_extension": ".py",
   "mimetype": "text/x-python",
   "name": "python",
   "nbconvert_exporter": "python",
   "pygments_lexer": "ipython3",
   "version": "3.6.9"
  }
 },
 "nbformat": 4,
 "nbformat_minor": 2
}